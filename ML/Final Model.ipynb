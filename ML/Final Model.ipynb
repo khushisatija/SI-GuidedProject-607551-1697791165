{
 "cells": [
  {
   "cell_type": "code",
   "execution_count": 38,
   "id": "b2a0bd18",
   "metadata": {},
   "outputs": [],
   "source": [
    "import numpy as np\n",
    "import pandas as pd\n",
    "import seaborn as sns\n",
    "import matplotlib.pyplot as plt\n",
    "%matplotlib inline\n",
    "import cv2\n",
    "import skimage\n",
    "from skimage.transform import resize\n",
    "import tensorflow as tf\n",
    "from tensorflow import keras\n",
    "import os"
   ]
  },
  {
   "cell_type": "code",
   "execution_count": 39,
   "id": "abc1bf61",
   "metadata": {
    "scrolled": true
   },
   "outputs": [
    {
     "name": "stdout",
     "output_type": "stream",
     "text": [
      "Images successfully imported...\n"
     ]
    }
   ],
   "source": [
    "batch_size = 64\n",
    "imageSize = 64\n",
    "target_dims = (imageSize, imageSize, 1)\n",
    "num_classes = 29\n",
    "\n",
    "train_len = 87000\n",
    "train_dir = 'C:\\\\Users\\\\shala\\\\Downloads\\\\asl recognistion\\\\asl_alphabet_train\\\\asl_alphabet_train\\\\'\n",
    "\n",
    "def get_data(folder):\n",
    "    X = np.empty((train_len, imageSize, imageSize, 1), dtype=np.float32)\n",
    "    y = np.empty((train_len,), dtype=int)\n",
    "    cnt = 0\n",
    "    for folderName in os.listdir(folder):\n",
    "        if not folderName.startswith('.'):\n",
    "            if folderName in ['A']:\n",
    "                label = 0\n",
    "            elif folderName in ['B']:\n",
    "                label = 1\n",
    "            elif folderName in ['C']:\n",
    "                label = 2\n",
    "            elif folderName in ['D']:\n",
    "                label = 3\n",
    "            elif folderName in ['E']:\n",
    "                label = 4\n",
    "            elif folderName in ['F']:\n",
    "                label = 5\n",
    "            elif folderName in ['G']:\n",
    "                label = 6\n",
    "            elif folderName in ['H']:\n",
    "                label = 7\n",
    "            elif folderName in ['I']:\n",
    "                label = 8\n",
    "            elif folderName in ['J']:\n",
    "                label = 9\n",
    "            elif folderName in ['K']:\n",
    "                label = 10\n",
    "            elif folderName in ['L']:\n",
    "                label = 11\n",
    "            elif folderName in ['M']:\n",
    "                label = 12\n",
    "            elif folderName in ['N']:\n",
    "                label = 13\n",
    "            elif folderName in ['O']:\n",
    "                label = 14\n",
    "            elif folderName in ['P']:\n",
    "                label = 15\n",
    "            elif folderName in ['Q']:\n",
    "                label = 16\n",
    "            elif folderName in ['R']:\n",
    "                label = 17\n",
    "            elif folderName in ['S']:\n",
    "                label = 18\n",
    "            elif folderName in ['T']:\n",
    "                label = 19\n",
    "            elif folderName in ['U']:\n",
    "                label = 20\n",
    "            elif folderName in ['V']:\n",
    "                label = 21\n",
    "            elif folderName in ['W']:\n",
    "                label = 22\n",
    "            elif folderName in ['X']:\n",
    "                label = 23\n",
    "            elif folderName in ['Y']:\n",
    "                label = 24\n",
    "            elif folderName in ['Z']:\n",
    "                label = 25\n",
    "            elif folderName in ['del']:\n",
    "                label = 26\n",
    "            elif folderName in ['nothing']:\n",
    "                label = 27\n",
    "            elif folderName in ['space']:\n",
    "                label = 28           \n",
    "            else:\n",
    "                label = 29\n",
    "            for image_filename in os.listdir(folder + folderName):\n",
    "                img_file = cv2.imread(folder + folderName + '/' + image_filename)\n",
    "                if img_file is not None:\n",
    "                    img_file = skimage.transform.resize(img_file, (imageSize, imageSize, 1))\n",
    "                    img_arr = np.asarray(img_file).reshape((-1, imageSize, imageSize, 1))\n",
    "                    \n",
    "                    X[cnt] = img_arr\n",
    "                    y[cnt] = label\n",
    "                    cnt += 1\n",
    "    return X,y\n",
    "X_train, y_train = get_data(train_dir)\n",
    "print(\"Images successfully imported...\")"
   ]
  },
  {
   "cell_type": "code",
   "execution_count": 40,
   "id": "214c988a",
   "metadata": {},
   "outputs": [
    {
     "name": "stdout",
     "output_type": "stream",
     "text": [
      "The shape of X_train is :  (87000, 64, 64, 1)\n",
      "The shape of y_train is :  (87000,)\n"
     ]
    }
   ],
   "source": [
    "print(\"The shape of X_train is : \", X_train.shape)\n",
    "print(\"The shape of y_train is : \", y_train.shape)"
   ]
  },
  {
   "cell_type": "code",
   "execution_count": 41,
   "id": "5d0909eb",
   "metadata": {},
   "outputs": [
    {
     "data": {
      "image/png": "[encoded data removed]",
      "text/plain": [
       "<Figure size 432x288 with 1 Axes>"
      ]
     },
     "metadata": {
      "needs_background": "light"
     },
     "output_type": "display_data"
    }
   ],
   "source": [
    "plt.imshow(X_train[0])\n",
    "plt.show()"
   ]
  },
  {
   "cell_type": "code",
   "execution_count": 42,
   "id": "6459440b",
   "metadata": {},
   "outputs": [],
   "source": [
    "X_data = X_train\n",
    "y_data = y_train"
   ]
  },
  {
   "cell_type": "code",
   "execution_count": 43,
   "id": "04d6158f",
   "metadata": {},
   "outputs": [],
   "source": [
    "from sklearn.model_selection import train_test_split\n",
    "\n",
    "X_train, X_test, y_train, y_test = train_test_split(X_data, y_data, test_size=0.3,random_state=42,stratify=y_data)\n"
   ]
  },
  {
   "cell_type": "code",
   "execution_count": 44,
   "id": "b9c5c78b",
   "metadata": {},
   "outputs": [],
   "source": [
    "from tensorflow.keras.utils import to_categorical\n",
    "y_cat_train = to_categorical(y_train,29)\n",
    "y_cat_test = to_categorical(y_test,29)"
   ]
  },
  {
   "cell_type": "code",
   "execution_count": 45,
   "id": "2ce8e06e",
   "metadata": {},
   "outputs": [
    {
     "name": "stdout",
     "output_type": "stream",
     "text": [
      "Packages imported...\n"
     ]
    }
   ],
   "source": [
    "from keras.models import Sequential\n",
    "from keras.layers import Conv2D, MaxPooling2D, Activation, Dense, Flatten\n",
    "print(\"Packages imported...\")"
   ]
  },
  {
   "cell_type": "code",
   "execution_count": 51,
   "id": "ae4b3e4c",
   "metadata": {},
   "outputs": [
    {
     "name": "stdout",
     "output_type": "stream",
     "text": [
      "Model: \"sequential_2\"\n",
      "_________________________________________________________________\n",
      " Layer (type)                Output Shape              Param #   \n",
      "=================================================================\n",
      " conv2d_6 (Conv2D)           (None, 60, 60, 32)        832       \n",
      "                                                                 \n",
      " activation_6 (Activation)   (None, 60, 60, 32)        0         \n",
      "                                                                 \n",
      " max_pooling2d_6 (MaxPoolin  (None, 30, 30, 32)        0         \n",
      " g2D)                                                            \n",
      "                                                                 \n",
      " conv2d_7 (Conv2D)           (None, 28, 28, 64)        18496     \n",
      "                                                                 \n",
      " activation_7 (Activation)   (None, 28, 28, 64)        0         \n",
      "                                                                 \n",
      " max_pooling2d_7 (MaxPoolin  (None, 14, 14, 64)        0         \n",
      " g2D)                                                            \n",
      "                                                                 \n",
      " conv2d_8 (Conv2D)           (None, 12, 12, 64)        36928     \n",
      "                                                                 \n",
      " activation_8 (Activation)   (None, 12, 12, 64)        0         \n",
      "                                                                 \n",
      " max_pooling2d_8 (MaxPoolin  (None, 6, 6, 64)          0         \n",
      " g2D)                                                            \n",
      "                                                                 \n",
      " flatten_2 (Flatten)         (None, 2304)              0         \n",
      "                                                                 \n",
      " dense_4 (Dense)             (None, 128)               295040    \n",
      "                                                                 \n",
      " dense_5 (Dense)             (None, 29)                3741      \n",
      "                                                                 \n",
      "=================================================================\n",
      "Total params: 355037 (1.35 MB)\n",
      "Trainable params: 355037 (1.35 MB)\n",
      "Non-trainable params: 0 (0.00 Byte)\n",
      "_________________________________________________________________\n"
     ]
    }
   ],
   "source": [
    "model = Sequential()\n",
    "\n",
    "model.add(Conv2D(32, (5, 5), input_shape=(64, 64, 1)))\n",
    "model.add(Activation('relu'))\n",
    "model.add(MaxPooling2D((2, 2)))\n",
    "\n",
    "model.add(Conv2D(64, (3, 3)))\n",
    "model.add(Activation('relu'))\n",
    "model.add(MaxPooling2D((2, 2)))\n",
    "\n",
    "model.add(Conv2D(64, (3, 3)))\n",
    "model.add(Activation('relu'))\n",
    "model.add(MaxPooling2D((2, 2)))\n",
    "\n",
    "model.add(Flatten())\n",
    "\n",
    "model.add(Dense(128, activation='relu'))\n",
    "\n",
    "model.add(Dense(29, activation='softmax'))\n",
    "\n",
    "model.summary()"
   ]
  },
  {
   "cell_type": "code",
   "execution_count": 52,
   "id": "64051290",
   "metadata": {},
   "outputs": [],
   "source": [
    "from tensorflow.keras.callbacks import EarlyStopping\n",
    "early_stop = EarlyStopping(monitor='val_loss',patience=2)"
   ]
  },
  {
   "cell_type": "code",
   "execution_count": 53,
   "id": "67522ca4",
   "metadata": {},
   "outputs": [],
   "source": [
    "model.compile(optimizer='adam',\n",
    "              loss='categorical_crossentropy',\n",
    "              metrics=['accuracy'])"
   ]
  },
  {
   "cell_type": "code",
   "execution_count": 54,
   "id": "4cfc1668",
   "metadata": {},
   "outputs": [
    {
     "name": "stdout",
     "output_type": "stream",
     "text": [
      "Epoch 1/50\n",
      "952/952 - 104s - loss: 1.1536 - accuracy: 0.6568 - val_loss: 0.3679 - val_accuracy: 0.8817 - 104s/epoch - 110ms/step\n",
      "Epoch 2/50\n",
      "952/952 - 105s - loss: 0.2026 - accuracy: 0.9345 - val_loss: 0.2174 - val_accuracy: 0.9290 - 105s/epoch - 110ms/step\n",
      "Epoch 3/50\n",
      "952/952 - 100s - loss: 0.0947 - accuracy: 0.9712 - val_loss: 0.0625 - val_accuracy: 0.9809 - 100s/epoch - 105ms/step\n",
      "Epoch 4/50\n",
      "952/952 - 100s - loss: 0.0620 - accuracy: 0.9807 - val_loss: 0.0776 - val_accuracy: 0.9754 - 100s/epoch - 105ms/step\n",
      "Epoch 5/50\n",
      "952/952 - 99s - loss: 0.0520 - accuracy: 0.9844 - val_loss: 0.0427 - val_accuracy: 0.9847 - 99s/epoch - 104ms/step\n",
      "Epoch 6/50\n",
      "952/952 - 101s - loss: 0.0410 - accuracy: 0.9877 - val_loss: 0.0384 - val_accuracy: 0.9882 - 101s/epoch - 107ms/step\n",
      "Epoch 7/50\n",
      "952/952 - 99s - loss: 0.0389 - accuracy: 0.9893 - val_loss: 0.0485 - val_accuracy: 0.9851 - 99s/epoch - 105ms/step\n",
      "Epoch 8/50\n",
      "952/952 - 100s - loss: 0.0332 - accuracy: 0.9903 - val_loss: 0.0547 - val_accuracy: 0.9847 - 100s/epoch - 105ms/step\n"
     ]
    },
    {
     "data": {
      "text/plain": [
       "<keras.src.callbacks.History at 0x1140366c880>"
      ]
     },
     "execution_count": 54,
     "metadata": {},
     "output_type": "execute_result"
    }
   ],
   "source": [
    "model.fit(X_train, y_cat_train,\n",
    "          epochs=50,\n",
    "          batch_size=64,\n",
    "          verbose=2,\n",
    "          validation_data=(X_test, y_cat_test),\n",
    "         callbacks=[early_stop])"
   ]
  },
  {
   "cell_type": "code",
   "execution_count": 55,
   "id": "e7a365ae",
   "metadata": {},
   "outputs": [
    {
     "data": {
      "image/png": "[encoded data removed]",
      "text/plain": [
       "<Figure size 432x288 with 1 Axes>"
      ]
     },
     "metadata": {
      "needs_background": "light"
     },
     "output_type": "display_data"
    },
    {
     "data": {
      "image/png": "[encoded data removed]",
      "text/plain": [
       "<Figure size 432x288 with 1 Axes>"
      ]
     },
     "metadata": {
      "needs_background": "light"
     },
     "output_type": "display_data"
    }
   ],
   "source": [
    "metrics = pd.DataFrame(model.history.history)\n",
    "metrics[['loss','val_loss']].plot()\n",
    "plt.show()\n",
    "metrics[['accuracy','val_accuracy']].plot()\n",
    "plt.show()"
   ]
  },
  {
   "cell_type": "code",
   "execution_count": 57,
   "id": "4a750b71",
   "metadata": {},
   "outputs": [
    {
     "data": {
      "text/plain": [
       "[0.05474954843521118, 0.984674334526062]"
      ]
     },
     "execution_count": 57,
     "metadata": {},
     "output_type": "execute_result"
    }
   ],
   "source": [
    "model.evaluate(X_test,y_cat_test,verbose=0)"
   ]
  },
  {
   "cell_type": "code",
   "execution_count": 58,
   "id": "13cd4ca1",
   "metadata": {},
   "outputs": [
    {
     "name": "stdout",
     "output_type": "stream",
     "text": [
      "816/816 [==============================] - 10s 13ms/step\n",
      "              precision    recall  f1-score   support\n",
      "\n",
      "           0       0.97      0.99      0.98       900\n",
      "           1       0.96      0.98      0.97       900\n",
      "           2       1.00      0.99      0.99       900\n",
      "           3       0.99      0.99      0.99       900\n",
      "           4       1.00      0.93      0.96       900\n",
      "           5       0.99      1.00      1.00       900\n",
      "           6       0.98      0.98      0.98       900\n",
      "           7       0.98      1.00      0.99       900\n",
      "           8       0.97      1.00      0.98       900\n",
      "           9       1.00      0.97      0.98       900\n",
      "          10       1.00      0.99      0.99       900\n",
      "          11       1.00      0.97      0.99       900\n",
      "          12       0.99      0.94      0.97       900\n",
      "          13       0.95      1.00      0.97       900\n",
      "          14       1.00      0.98      0.99       900\n",
      "          15       1.00      0.97      0.99       900\n",
      "          16       0.97      1.00      0.99       900\n",
      "          17       0.98      0.98      0.98       900\n",
      "          18       0.97      0.98      0.98       900\n",
      "          19       0.97      0.99      0.98       900\n",
      "          20       0.98      0.99      0.98       900\n",
      "          21       0.99      0.96      0.97       900\n",
      "          22       0.97      0.99      0.98       900\n",
      "          23       0.99      0.99      0.99       900\n",
      "          24       0.99      1.00      1.00       900\n",
      "          25       0.99      0.99      0.99       900\n",
      "          26       0.99      0.99      0.99       900\n",
      "          27       1.00      1.00      1.00       900\n",
      "          28       0.99      1.00      0.99       900\n",
      "\n",
      "    accuracy                           0.98     26100\n",
      "   macro avg       0.98      0.98      0.98     26100\n",
      "weighted avg       0.98      0.98      0.98     26100\n",
      "\n"
     ]
    }
   ],
   "source": [
    "predictions = model.predictions = np.argmax(model.predict(X_test),axis=1)\n",
    "from sklearn.metrics import classification_report, confusion_matrix\n",
    "print(classification_report(y_test,predictions))\n"
   ]
  },
  {
   "cell_type": "code",
   "execution_count": 60,
   "id": "ead3ad9b",
   "metadata": {},
   "outputs": [
    {
     "name": "stdout",
     "output_type": "stream",
     "text": [
      "Model saved successfully...\n"
     ]
    }
   ],
   "source": [
    "from keras.models import load_model\n",
    "model.save('asl_update.h5')\n",
    "print(\"Model saved successfully...\")"
   ]
  },
  {
   "cell_type": "code",
   "execution_count": null,
   "id": "bed54bab",
   "metadata": {},
   "outputs": [],
   "source": []
  }
 ],
 "metadata": {
  "kernelspec": {
   "display_name": "Python 3 (ipykernel)",
   "language": "python",
   "name": "python3"
  },
  "language_info": {
   "codemirror_mode": {
    "name": "ipython",
    "version": 3
   },
   "file_extension": ".py",
   "mimetype": "text/x-python",
   "name": "python",
   "nbconvert_exporter": "python",
   "pygments_lexer": "ipython3",
   "version": "3.10.1"
  }
 },
 "nbformat": 4,
 "nbformat_minor": 5
}
